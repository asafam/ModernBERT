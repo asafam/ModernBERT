{
 "cells": [
  {
   "cell_type": "code",
   "execution_count": 2,
   "id": "23169a6c",
   "metadata": {},
   "outputs": [
    {
     "name": "stdout",
     "output_type": "stream",
     "text": [
      "✅ Fixed trace written to profiler/modern-bert-base-phase-0.1-pretrain/20250507_1344/composer_profiler/merged_trace_fixed.json\n"
     ]
    }
   ],
   "source": [
    "import json\n",
    "import os\n",
    "\n",
    "os.chdir(\"/home/nlp/achimoa/workspace/ModernHebrewBERT\")\n",
    "\n",
    "trace_path = \"profiler/modern-bert-base-phase-0.1-pretrain/20250507_1344/composer_profiler/merged_trace.json\"\n",
    "fixed_path = \"profiler/modern-bert-base-phase-0.1-pretrain/20250507_1344/composer_profiler/merged_trace_fixed.json\"\n",
    "\n",
    "with open(trace_path) as f:\n",
    "    trace = json.load(f)\n",
    "\n",
    "# Get minimum timestamp\n",
    "min_ts = min(e[\"ts\"] for e in trace if \"ts\" in e)\n",
    "\n",
    "# Normalize all timestamps\n",
    "for e in trace:\n",
    "    if \"ts\" in e:\n",
    "        e[\"ts\"] -= min_ts\n",
    "\n",
    "# Save fixed trace\n",
    "with open(fixed_path, \"w\") as f:\n",
    "    json.dump(trace, f)\n",
    "\n",
    "print(f\"✅ Fixed trace written to {fixed_path}\")\n"
   ]
  },
  {
   "cell_type": "code",
   "execution_count": null,
   "id": "254e7b07",
   "metadata": {},
   "outputs": [],
   "source": []
  }
 ],
 "metadata": {
  "kernelspec": {
   "display_name": "bert24",
   "language": "python",
   "name": "python3"
  },
  "language_info": {
   "codemirror_mode": {
    "name": "ipython",
    "version": 3
   },
   "file_extension": ".py",
   "mimetype": "text/x-python",
   "name": "python",
   "nbconvert_exporter": "python",
   "pygments_lexer": "ipython3",
   "version": "3.11.9"
  }
 },
 "nbformat": 4,
 "nbformat_minor": 5
}
